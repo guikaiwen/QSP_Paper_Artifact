{
 "cells": [
  {
   "cell_type": "markdown",
   "id": "0b393286",
   "metadata": {},
   "source": [
    "# Qubit-Efficient Quantum State Preparation"
   ]
  },
  {
   "cell_type": "markdown",
   "id": "901ffe30",
   "metadata": {},
   "source": [
    "<span style=\"color:red;\">Note that this example is a fully generalized implementation that can create any quantum state of size $n$. </span>"
   ]
  },
  {
   "cell_type": "markdown",
   "id": "b23f96a1-459b-46b0-b32a-04b3c9226d50",
   "metadata": {},
   "source": [
    "## Overall Structure"
   ]
  },
  {
   "cell_type": "markdown",
   "id": "68a8312d",
   "metadata": {},
   "source": [
    "Our goal is to prepare the state vector $[x_0, x_1,..., x_{N-1}]^T$\n",
    "from the intial state vector $[1, 0,...,0]^T$ by doing a sequence of multi-control single-target quantum gate $U$ s.t. $U[1, 0,...,0]^T = [x_0, x_1,..., x_{N-1}]^T$, using the method described by the book $\\href{https://link.springer.com/book/10.1007/978-3-030-83098-4}{\\textit{Machine Learning with Quantum Computers (second edition)}}$.\n",
    "\n",
    "That is, we wish to create the operation:\n",
    "$U_{\\mathrm{QSP}} |0^n\\rangle = |\\psi\\rangle = \\frac{1}{\\lVert \\mathbf{x}\\rVert}\\sum_{j=0}^{2^{n-1}}x_j |j\\rangle$\n",
    "\n",
    "A simple illustration of the U gate sequence is shown below in the reverse order. (The book's original ideal is to do $U[x_0, x_1,..., x_{N-1}]^T = [1, 0,...,0]^T$, so we just need to reverse it to get the encoded state from the zero initialized state.)\n",
    "\n",
    "(Note that $N = 2^n$)"
   ]
  },
  {
   "attachments": {
    "amplitude_original_circuit.png": {
     "image/png": "[encoded data removed]"
    }
   },
   "cell_type": "markdown",
   "id": "f0eb170a",
   "metadata": {},
   "source": [
    "![amplitude_original_circuit.png](attachment:amplitude_original_circuit.png)"
   ]
  },
  {
   "cell_type": "markdown",
   "id": "6537b3a9-7503-4542-8fbb-e8d887671b35",
   "metadata": {},
   "source": [
    "This operation has the following circuit complexity numbers:\n",
    "    \n",
    "A. $O(N)$ depth using generalized multi-controlled Ry gates\n",
    "\n",
    "B. No additional ancilla qubits required (total of $O(\\log N)$ qubits)"
   ]
  },
  {
   "cell_type": "code",
   "execution_count": 1,
   "id": "fbb223c6",
   "metadata": {},
   "outputs": [],
   "source": [
    "# Import Braket libraries\n",
    "import braket\n",
    "from braket.circuits import Circuit\n",
    "from braket.aws import AwsDevice\n",
    "from braket.devices import LocalSimulator\n",
    "\n",
    "import numpy as np\n",
    "import random"
   ]
  },
  {
   "cell_type": "markdown",
   "id": "185bd99d-7987-4799-ace7-f3411c2446b4",
   "metadata": {},
   "source": [
    "## Circuit Implementation"
   ]
  },
  {
   "cell_type": "markdown",
   "id": "2bb750cb-beb5-4c75-9acc-52f0a70d33f9",
   "metadata": {},
   "source": [
    "### Classical Part - Compute Angles"
   ]
  },
  {
   "cell_type": "markdown",
   "id": "ae694d34",
   "metadata": {},
   "source": [
    "We first compute the rotation angles $\\beta$:\n",
    "\n",
    "\n",
    "$\\beta_j^s = 2\\,\\text{arcsin}\\Bigg(\\frac{\\sqrt{\\sum_{l=1}^{2^{s-1}}|\\alpha_{(2j-1)2^{s-1}+l}|^2}}{\\sqrt{\\sum_{l=1}^{2^{s}}|\\alpha_{(j-1)2^{s}+l}|^2}}\\Bigg)$\n",
    "\n",
    "(Note that the book uses 1-indexing, whereas a python array data structure has 0-indexing. Therefore the $l$ values are shifted down by 1.)"
   ]
  },
  {
   "cell_type": "code",
   "execution_count": 2,
   "id": "a3c18cb9",
   "metadata": {},
   "outputs": [],
   "source": [
    "def compute_target_bit_angle(s: int, j: int, feature_array: np.ndarray) -> float:\n",
    "    \"\"\"\n",
    "    Function to compute a particular beta_{s,j} angle according to the equation above\n",
    "    \n",
    "    @param s: as it appear in the equation above\n",
    "    @param j: as it appear in the equation above\n",
    "    @param feature_array: the entire feature array vector values to be encoded\n",
    "    \n",
    "    @return: a float/double value that holds the computed angle \n",
    "    \"\"\"\n",
    "    sum_top = 0.0\n",
    "    for l in range(0, 2 ** (s - 1) - 1 + 1): # compute the sum on the numerator\n",
    "        current_var = feature_array[(2 * j - 1) * 2 ** (s - 1) + l]\n",
    "        sum_top += current_var ** 2\n",
    "    \n",
    "    sum_bottom = 0.0\n",
    "    for l in range(0, 2 ** s - 1 + 1): # compute the sum on the denominator\n",
    "        current_var = feature_array[(j - 1) * 2 ** s + l]\n",
    "        sum_bottom += current_var ** 2\n",
    "        \n",
    "    if sum_bottom == 0: # edge case: arcsin denominator is zero\n",
    "        return 0.0\n",
    "    else:\n",
    "        return 2 * np.arcsin(np.sqrt(sum_top) / np.sqrt(sum_bottom))"
   ]
  },
  {
   "cell_type": "markdown",
   "id": "e2ff615c-b25f-420c-b951-8e4a3955458a",
   "metadata": {},
   "source": [
    "### Quantum Part"
   ]
  },
  {
   "cell_type": "markdown",
   "id": "cd1b265a-6a18-4cda-8d3f-6da644051162",
   "metadata": {},
   "source": [
    "#### Define Multi-Control and Multi-Anticontrol Ry gates"
   ]
  },
  {
   "cell_type": "markdown",
   "id": "781f55de",
   "metadata": {},
   "source": [
    "We will need to \"sandwich\" the C-Ry gates with the corresponding x gates in order to realize the auti-control operations.\n",
    "\n",
    "(Note that the most natural way of representing the auti control modifier x gate as binary number is to use 0-indexing. Therefore the converted $j$ values are shifted down by 1.)"
   ]
  },
  {
   "cell_type": "code",
   "execution_count": 3,
   "id": "8b5b7f3c-a592-4412-bed6-0927bdb087f0",
   "metadata": {
    "tags": []
   },
   "outputs": [],
   "source": [
    "def x_gate_sequence(s: int, j: int, total_qubit_num: int, circ: braket.circuits.circuit.Circuit):\n",
    "    \"\"\"\n",
    "    Function to add x gates to help emulate the anti-control operations\n",
    "    \n",
    "    @param s: as it appear in the equation above\n",
    "    @param j: as it appear in the equation above\n",
    "    total_qubit_num: total number of qubits for the state being prepared\n",
    "    circ: quantum circuit to operate on\n",
    "    \"\"\"\n",
    "    binary_j = bin(j - 1).replace(\"0b\", \"\").zfill(total_qubit_num - s) # get the binary representation of the current j\n",
    "    for i in range(total_qubit_num - s):\n",
    "        if int(binary_j[i]) == 0:\n",
    "            circ.x(i)"
   ]
  },
  {
   "cell_type": "code",
   "execution_count": 4,
   "id": "db00f8b7-d0aa-4026-8177-929d69515a28",
   "metadata": {
    "tags": []
   },
   "outputs": [],
   "source": [
    "def full_multi_control_rotation_gate(s: int, j: int, total_qubit_num: int, circ: braket.circuits.circuit.Circuit, feature_array: np.ndarray):\n",
    "    \"\"\"\n",
    "    Function to perform a full multi-control rotation gate based on the s and j values, will anti-control conditions included\n",
    "\n",
    "    @param s: as it appear in the equation above\n",
    "    @param j: as it appear in the equation above\n",
    "    @param total_qubit_num: total number of qubits for the state being prepared\n",
    "    @param circ: quantum circuit to operate on\n",
    "    @param feature_array: the entire feature array vector values to be encoded \n",
    "    \"\"\"\n",
    "    target_bit_index = total_qubit_num - s\n",
    "    target_bit_angle = compute_target_bit_angle(s, j, feature_array)\n",
    "    control_qubit_list = list(range(target_bit_index)) # get the control qubit list\n",
    "    \n",
    "    x_gate_sequence(s, j, total_qubit_num, circ) # insert x gate if anti-control\n",
    "    circ.ry(angle=target_bit_angle, target=target_bit_index, control=control_qubit_list)\n",
    "    x_gate_sequence(s, j, total_qubit_num, circ) # insert x gate if anti-control"
   ]
  },
  {
   "cell_type": "markdown",
   "id": "3b62d719",
   "metadata": {},
   "source": [
    "Now let's test our constructed circuit!\n",
    "\n",
    "We will implement another function that helps us generate some arbitrary feature vectors."
   ]
  },
  {
   "cell_type": "markdown",
   "id": "21ee8e06-5d44-4c65-9ba8-40d2d63793ff",
   "metadata": {},
   "source": [
    "## Algorithm Demo - Circuit Execution"
   ]
  },
  {
   "cell_type": "markdown",
   "id": "8d93819c-953b-482f-9616-b0e8ac1640e9",
   "metadata": {},
   "source": [
    "##### Some Functions to Help With Visualization"
   ]
  },
  {
   "cell_type": "markdown",
   "id": "debb41c5-dfc3-43f7-b102-77cce2de7558",
   "metadata": {},
   "source": [
    "We round the number of digits to 3, and use a row to column vector converter to make things look nice."
   ]
  },
  {
   "cell_type": "code",
   "execution_count": 5,
   "id": "585db6d6-8c97-4a28-9380-32723b142ee4",
   "metadata": {
    "tags": []
   },
   "outputs": [],
   "source": [
    "def round_to_three_significant_digits(numbers_vec: list, digit: int) -> np.ndarray:\n",
    "    \"\"\"\n",
    "    Function to round the input vector of floating numbers to the targeted number of digits\n",
    "    \n",
    "    @param numbers_vec: vector of floating numbers to be rounded each\n",
    "    @param digit: targetting number of digits to round to\n",
    "    \n",
    "    @return rounded_numbers_vec: rounded vector of floating numbers\n",
    "    \"\"\"\n",
    "    rounded_numbers_vec = []\n",
    "    for num in numbers_vec:\n",
    "        if num == 0:\n",
    "            rounded_numbers_vec.append(0)\n",
    "        else:\n",
    "            rounded_numbers_vec.append(np.round(num, digit))\n",
    "    return np.array(rounded_numbers_vec)"
   ]
  },
  {
   "cell_type": "code",
   "execution_count": 6,
   "id": "211bdbc5-9368-49d2-a1c2-9d1a2c202342",
   "metadata": {
    "tags": []
   },
   "outputs": [],
   "source": [
    "def row_to_column_vector(row_vector: np.ndarray) -> np.ndarray:\n",
    "    \"\"\"Converts a 1D row vector to a 1D column vector.\"\"\"\n",
    "    if not isinstance(row_vector, np.ndarray) or row_vector.ndim != 1:\n",
    "        raise ValueError(\"Input must be a 1D NumPy array (row vector).\")\n",
    "\n",
    "    return row_vector.reshape(-1, 1)"
   ]
  },
  {
   "cell_type": "markdown",
   "id": "2e36bc19-91c0-439f-9a50-6d2b18d793af",
   "metadata": {
    "tags": []
   },
   "source": [
    "### Classically Generate Random Feature Vector"
   ]
  },
  {
   "cell_type": "markdown",
   "id": "2da11acc",
   "metadata": {},
   "source": [
    "Now let's generate a random normalized feature vector of size $2^3 = 8$. \n",
    "\n",
    "You can change `total_qubit_num` to a larger `int` number and see what happens for bigger size feature arrays!"
   ]
  },
  {
   "cell_type": "code",
   "execution_count": 7,
   "id": "d3b66737",
   "metadata": {},
   "outputs": [],
   "source": [
    "def generate_normalized_random_feature_vec(n: int) -> np.ndarray:\n",
    "    \"\"\"\n",
    "    Function to generate a normalized random feature value vector\n",
    "    \n",
    "    @param n: total number of data qubit\n",
    "    \n",
    "    @return normalized_v: an array of size 2^n that holds the generated nomalized feature values\n",
    "    \"\"\"\n",
    "    vec = []\n",
    "    for i in range(2 ** n):\n",
    "        vec.append(random.random())\n",
    "    normalized_v = np.array(vec) / np.sqrt(np.sum(np.array(vec)**2)) # need to normalize the vector\n",
    "    return normalized_v"
   ]
  },
  {
   "cell_type": "code",
   "execution_count": 8,
   "id": "9419a7bb-7190-4895-9779-dea78feb57ab",
   "metadata": {
    "scrolled": true,
    "tags": []
   },
   "outputs": [
    {
     "name": "stdout",
     "output_type": "stream",
     "text": [
      "[[0.349]\n",
      " [0.262]\n",
      " [0.353]\n",
      " [0.126]\n",
      " [0.497]\n",
      " [0.503]\n",
      " [0.399]\n",
      " [0.098]]\n",
      "CPU times: user 438 µs, sys: 202 µs, total: 640 µs\n",
      "Wall time: 536 µs\n"
     ]
    }
   ],
   "source": [
    "%%time\n",
    "random.seed(10) # fix a seed for data reproduction purpose, you can change this value to play with other results\n",
    "total_qubit_num = 3 # number of qubits. We can encode 2^n number of features with n qubits!\n",
    "feature_array = generate_normalized_random_feature_vec(total_qubit_num)\n",
    "print(row_to_column_vector(round_to_three_significant_digits(feature_array, 3))) # print out the feature vector array for validation"
   ]
  },
  {
   "cell_type": "markdown",
   "id": "7fcf0f56-a75c-49de-a8bd-a31ed13a4c03",
   "metadata": {},
   "source": [
    "### Call Implemented Gate Function to Construct Quantum Circuit"
   ]
  },
  {
   "cell_type": "markdown",
   "id": "ee58d6ec-08e4-482e-a188-56e6ecc08ab1",
   "metadata": {},
   "source": [
    "We call the circuit construction methods to act on an empty Braket circuit:"
   ]
  },
  {
   "cell_type": "code",
   "execution_count": 9,
   "id": "ac31f506-3a13-4e60-a3ff-151088a7a19c",
   "metadata": {
    "tags": []
   },
   "outputs": [
    {
     "name": "stdout",
     "output_type": "stream",
     "text": [
      "T  : |   0    |   1    |2|   3    |4|   5    |6|   7    |8|   9    |10|11|   12   |13|\n",
      "                                                                                      \n",
      "q0 : -Ry(1.92)-C--------X-C--------X-C----------C--------X-C--------X--X--C--------X--\n",
      "               |          |          |          |          |              |           \n",
      "q1 : ----------Ry(1.05)---Ry(1.42)---C--------X-C--------X-C--------X-----C--------X--\n",
      "                                     |          |          |              |           \n",
      "q2 : --------------------------------Ry(0.48)---Ry(1.58)---Ry(0.68)-------Ry(1.29)----\n",
      "\n",
      "T  : |   0    |   1    |2|   3    |4|   5    |6|   7    |8|   9    |10|11|   12   |13|\n"
     ]
    }
   ],
   "source": [
    "circ = Circuit()\n",
    "for s in range(total_qubit_num, 0, -1):\n",
    "    for j in range(2 ** (total_qubit_num - s), 0, -1):\n",
    "        full_multi_control_rotation_gate(s, j, total_qubit_num, circ, feature_array)\n",
    "print(circ) # It might be a little hard to see full circuit structure if total_qubit_num is set to be a larger number"
   ]
  },
  {
   "cell_type": "markdown",
   "id": "df409a3b",
   "metadata": {},
   "source": [
    "Note that the order of the angles are reversed in our novel encoding method in different \"interleaved stages\", due to the inverse order that the prerotated angle are pumped in for better circuit parallelization."
   ]
  },
  {
   "cell_type": "markdown",
   "id": "f23d4d13-b0a8-4c29-b9c8-153d845fb6f9",
   "metadata": {},
   "source": [
    "<span style=\"color:orange;\">We also note that to decompose a general n-qubit control-Ry gate, one would need to use single qubit + CNOT gates with $O(n)$ depth. Therefore, we would naively need $O(n2^n)$ depth using single qubit + CNOT gates. Möttönen et al. 2004 was able to improve the depth to $O(2^n)$, following by Sun et al. 2021 that further improves it to $O(2^n/n)$. </span>"
   ]
  },
  {
   "cell_type": "markdown",
   "id": "1cc95efc",
   "metadata": {},
   "source": [
    "Whenever there is an X gate before and after the control, this would indicate switching from close control (conditioned on 1) to open control (conditioned on 0)."
   ]
  },
  {
   "cell_type": "markdown",
   "id": "0c53bb08-cbb8-4aee-a9c5-2b6d8ae1d764",
   "metadata": {},
   "source": [
    "### Execute Quantum Circuit"
   ]
  },
  {
   "cell_type": "markdown",
   "id": "d6e19c96",
   "metadata": {},
   "source": [
    "Next let's execute the constructed circuit using the Braket's local simulator. (Note: for large instances, it is recommended to use the SV1 simulator)"
   ]
  },
  {
   "cell_type": "code",
   "execution_count": 10,
   "id": "d461e627",
   "metadata": {
    "scrolled": true,
    "tags": []
   },
   "outputs": [
    {
     "name": "stderr",
     "output_type": "stream",
     "text": [
      "This program uses OpenQASM language features that may not be supported on QPUs or on-demand simulators.\n"
     ]
    },
    {
     "name": "stdout",
     "output_type": "stream",
     "text": [
      "[[0.349+0.j]\n",
      " [0.262+0.j]\n",
      " [0.353+0.j]\n",
      " [0.126+0.j]\n",
      " [0.497+0.j]\n",
      " [0.503+0.j]\n",
      " [0.399+0.j]\n",
      " [0.098+0.j]]\n",
      "CPU times: user 33.6 ms, sys: 2.7 ms, total: 36.4 ms\n",
      "Wall time: 36.8 ms\n"
     ]
    }
   ],
   "source": [
    "%%time\n",
    "braket_device = LocalSimulator()\n",
    "circ.state_vector()\n",
    "braket_state_vector_result = braket_device.run(circ, shots=0).result().values[0]\n",
    "print(row_to_column_vector(round_to_three_significant_digits(braket_state_vector_result, 3))) # print out the resulted state vector"
   ]
  },
  {
   "cell_type": "markdown",
   "id": "1979c60b-4c01-444c-8729-585a663c5f23",
   "metadata": {},
   "source": [
    "Let's see the actual difference between the expected amplitude vector vs what is actually produced"
   ]
  },
  {
   "cell_type": "markdown",
   "id": "60120267-856d-4dab-95b1-eeb64c075677",
   "metadata": {},
   "source": [
    "#### Compare Diff"
   ]
  },
  {
   "cell_type": "code",
   "execution_count": 11,
   "id": "427d2802-9d84-496e-8209-ac15d1018e78",
   "metadata": {
    "scrolled": true,
    "tags": []
   },
   "outputs": [
    {
     "name": "stdout",
     "output_type": "stream",
     "text": [
      "[[-1.11022302e-16+0.j]\n",
      " [-5.55111512e-17+0.j]\n",
      " [-1.11022302e-16+0.j]\n",
      " [-5.55111512e-17+0.j]\n",
      " [ 5.55111512e-17+0.j]\n",
      " [ 1.11022302e-16+0.j]\n",
      " [ 5.55111512e-17+0.j]\n",
      " [ 2.77555756e-17+0.j]]\n"
     ]
    }
   ],
   "source": [
    "print(row_to_column_vector(np.array(braket_state_vector_result) - np.array(feature_array)))"
   ]
  },
  {
   "cell_type": "markdown",
   "id": "eaa5bac7",
   "metadata": {},
   "source": [
    "The result matches perfectly with the desired output!"
   ]
  }
 ],
 "metadata": {
  "kernelspec": {
   "display_name": "Python 3 (ipykernel)",
   "language": "python",
   "name": "python3"
  },
  "language_info": {
   "codemirror_mode": {
    "name": "ipython",
    "version": 3
   },
   "file_extension": ".py",
   "mimetype": "text/x-python",
   "name": "python",
   "nbconvert_exporter": "python",
   "pygments_lexer": "ipython3",
   "version": "3.10.11"
  }
 },
 "nbformat": 4,
 "nbformat_minor": 5
}
